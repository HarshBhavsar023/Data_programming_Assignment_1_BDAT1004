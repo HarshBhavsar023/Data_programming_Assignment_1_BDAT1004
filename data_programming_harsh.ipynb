{
  "nbformat": 4,
  "nbformat_minor": 0,
  "metadata": {
    "colab": {
      "provenance": [],
      "authorship_tag": "ABX9TyPAU/zGd9NYweqqJnTlqs43",
      "include_colab_link": true
    },
    "kernelspec": {
      "name": "python3",
      "display_name": "Python 3"
    },
    "language_info": {
      "name": "python"
    }
  },
  "cells": [
    {
      "cell_type": "markdown",
      "metadata": {
        "id": "view-in-github",
        "colab_type": "text"
      },
      "source": [
        "<a href=\"https://colab.research.google.com/github/HarshBhavsar023/Data_programming_Assignment_1_BDAT1004/blob/main/data_programming_harsh.ipynb\" target=\"_parent\"><img src=\"https://colab.research.google.com/assets/colab-badge.svg\" alt=\"Open In Colab\"/></a>"
      ]
    },
    {
      "cell_type": "code",
      "source": [],
      "metadata": {
        "id": "daF7lUxkplq4"
      },
      "execution_count": null,
      "outputs": []
    },
    {
      "cell_type": "markdown",
      "source": [
        "---\n",
        "**Question 1**\n",
        "---\n",
        "What data type is each of the following (evaluate where necessary)?\n",
        "\n",
        "\n",
        "*   5 = Integer\n",
        "* 5.0 = Float\n",
        "* 5 > 1 = Boolean\n",
        "* '5' = String\n",
        "* 5 * 2 = Integer\n",
        "* '5' * 2 = String\n",
        "* '5' + '2' = String\n",
        "* 5 / 2 = Float\n",
        "* 5 % 2 = Integer\n",
        "* {5, 2, 1} = Set\n",
        "* 5 == 3 = Boolean\n",
        "* Pi (the number) = Float\n",
        "\n",
        "\n",
        "\n",
        "\n"
      ],
      "metadata": {
        "id": "YrY6rybc8a9N"
      }
    },
    {
      "cell_type": "markdown",
      "source": [],
      "metadata": {
        "id": "KsQMsjx3o8lJ"
      }
    },
    {
      "cell_type": "markdown",
      "source": [
        "---\n",
        "**Question 2** :\n",
        "---\n",
        "Write (and evaluate) python expressions that answer these questions:\n",
        "1.  How many letters are there in 'Supercalifragilisticexpialidocious'?\n",
        "2.  Does 'Supercalifragilisticexpialidocious' contain 'ice' as a substring?\n",
        "3.  Which of the following words is the longest:\n",
        "Supercalifragilisticexpialidocious, Honorificabilitudinitatibus, or\n",
        "Bababadalgharaghtakamminarronnkonn?\n",
        "4.  Which composer comes first in the dictionary: 'Berlioz', 'Borodin', 'Brian',\n",
        "'Bartok', 'Bellini', 'Buxtehude', 'Bernstein'. Which one comes last?"
      ],
      "metadata": {
        "id": "LYz0PJxb9Zd-"
      }
    },
    {
      "cell_type": "code",
      "execution_count": null,
      "metadata": {
        "colab": {
          "base_uri": "https://localhost:8080/"
        },
        "id": "33RUrixh8Cav",
        "outputId": "6a78fde5-5c1f-424c-c7bd-65a96e222f62"
      },
      "outputs": [
        {
          "output_type": "stream",
          "name": "stdout",
          "text": [
            "The letters of the Supercalifragilisticexpialidocious is: 34\n"
          ]
        }
      ],
      "source": [
        "#1 How many letters are there in 'Supercalifragilisticexpialidocious'?\n",
        "\n",
        "word = str(\"Supercalifragilisticexpialidocious\")\n",
        "print(\"The letters of the\",word,\"is:\",len(word))"
      ]
    },
    {
      "cell_type": "code",
      "source": [
        "#2 Does 'Supercalifragilisticexpialidocious' contain 'ice' as a substring?\n",
        "\n",
        "word = str(\"Supercalifragilisticexpialidocious\")\n",
        "sub_string = str(\"ice\")\n",
        "\n",
        "if sub_string in word:\n",
        "  print(\"yes,\",sub_string,\"is sub-string of  \",word)\n",
        "else :\n",
        "  print(\"No,\",sub_string,\"is sub-string \",word)\n"
      ],
      "metadata": {
        "colab": {
          "base_uri": "https://localhost:8080/"
        },
        "id": "MhrXzDQ7_8my",
        "outputId": "e018ed7c-9c8f-4daa-d4a5-8caa4249612f"
      },
      "execution_count": null,
      "outputs": [
        {
          "output_type": "stream",
          "name": "stdout",
          "text": [
            "yes, ice is sub-string of   Supercalifragilisticexpialidocious\n"
          ]
        }
      ]
    },
    {
      "cell_type": "code",
      "source": [
        "#3 Which of the following words is the longest: Supercalifragilisticexpialidocious, Honorificabilitudinitatibus, or Bababadalgharaghtakamminarronnkonn?\n",
        "\n",
        "str_1 = str(\"Supercalifragilisticexpialidocious\")\n",
        "str_2 = str(\"Honorificabilitudinitatibus\")\n",
        "str_3 = str(\"Bababadalgharaghtakamminarronnkonn\")\n",
        "\n",
        "longest = \"\"\n",
        "\n",
        "if len(str_1) >= len(longest):\n",
        "  longest = str_1\n",
        "\n",
        "if len(str_2) >=  len(longest):\n",
        "  longest = str_2\n",
        "\n",
        "if len(str_2) >= len(longest):\n",
        "  longest = str_3\n",
        "\n",
        "print(longest)\n"
      ],
      "metadata": {
        "colab": {
          "base_uri": "https://localhost:8080/"
        },
        "id": "5z-UyTMfAppG",
        "outputId": "6fd6eb57-ffba-43de-a7c9-59df0a17a35e"
      },
      "execution_count": null,
      "outputs": [
        {
          "output_type": "stream",
          "name": "stdout",
          "text": [
            "Supercalifragilisticexpialidocious\n"
          ]
        }
      ]
    },
    {
      "cell_type": "code",
      "source": [
        "#4 Which composer comes first in the dictionary: 'Berlioz', 'Borodin', 'Brian', 'Bartok', 'Bellini', 'Buxtehude', 'Bernstein'. Which one comes last?\n",
        "\n",
        "composers = ['Berlioz', 'Borodin', 'Brian', 'Bartok', 'Bellini', 'Buxtehude', 'Bernstein']\n",
        "\n",
        "first_composer = composers[0]\n",
        "last_composer = composers[0]\n",
        "\n",
        "for composer in composers:\n",
        "    if composer < first_composer:\n",
        "        first_composer = composer\n",
        "    if composer > last_composer:\n",
        "        last_composer = composer\n",
        "\n",
        "print(\"First composer:\", first_composer)\n",
        "print(\"Last composer:\", last_composer)\n"
      ],
      "metadata": {
        "colab": {
          "base_uri": "https://localhost:8080/"
        },
        "id": "QPqon--SMxeE",
        "outputId": "63175b8e-6a47-454a-bf0d-9fc5b564e012"
      },
      "execution_count": null,
      "outputs": [
        {
          "output_type": "stream",
          "name": "stdout",
          "text": [
            "First composer: Bartok\n",
            "Last composer: Buxtehude\n"
          ]
        }
      ]
    },
    {
      "cell_type": "markdown",
      "source": [
        "---\n",
        "**Question 3**:\n",
        "---\n",
        "Implement function triangleArea(a,b,c) that takes as input the lengths of the 3\n",
        "sides of a triangle and returns the area of the triangle. By Heron's formula, the area\n",
        "of a triangle with side lengths a, b, and c is s(s - a)(s - b)(s - c) , wheres = (a + b + c)/2"
      ],
      "metadata": {
        "id": "F71uWLqaP0GR"
      }
    },
    {
      "cell_type": "code",
      "source": [
        "import math\n",
        "def triangleArea(a, b, c):\n",
        "    s = (a + b + c) / 2\n",
        "\n",
        "    area = math.sqrt(s * (s - a) * (s - b) * (s - c))\n",
        "\n",
        "    return area\n",
        "area = triangleArea(2, 2, 2)\n",
        "\n",
        "print(\"The area of the triangle is:\", area)\n",
        "\n",
        "\n"
      ],
      "metadata": {
        "colab": {
          "base_uri": "https://localhost:8080/"
        },
        "id": "5IZxsOQ9O1BL",
        "outputId": "cb6139ce-bdb3-4db2-d8d5-4b14d4f96c04"
      },
      "execution_count": null,
      "outputs": [
        {
          "output_type": "stream",
          "name": "stdout",
          "text": [
            "The area of the triangle is: 1.7320508075688772\n"
          ]
        }
      ]
    },
    {
      "cell_type": "markdown",
      "source": [
        "---\n",
        "**Question 4**:\n",
        "---\n",
        "Write a program in python to separate odd and even integers in separate arrays. Go to the editor"
      ],
      "metadata": {
        "id": "9-1ychpOXu99"
      }
    },
    {
      "cell_type": "code",
      "source": [
        "def separate_odd_even_elements():\n",
        "    num_elements = int(input(\"Input the number of elements to be stored in the array: \"))\n",
        "\n",
        "    odd_elements = []\n",
        "    even_elements = []\n",
        "\n",
        "    print(\"Input\", num_elements, \"elements in the array:\")\n",
        "\n",
        "    for i in range(num_elements):\n",
        "        element = int(input(\"Element - {}: \".format(i)))\n",
        "\n",
        "\n",
        "        if element % 2 == 0:\n",
        "            even_elements.append(element)\n",
        "        else:\n",
        "            odd_elements.append(element)\n",
        "\n",
        "\n",
        "    print(\"The Even elements are:\")\n",
        "    for even in even_elements:\n",
        "        print(even, end=\" \")\n",
        "\n",
        "\n",
        "    print(\"\\nThe Odd elements are:\")\n",
        "    for odd in odd_elements:\n",
        "        print(odd, end=\" \")\n",
        "\n",
        "separate_odd_even_elements()\n"
      ],
      "metadata": {
        "colab": {
          "base_uri": "https://localhost:8080/"
        },
        "id": "884J-xwaXuGT",
        "outputId": "ccebb0d3-8df9-48d6-8ee9-12c0944ead24"
      },
      "execution_count": null,
      "outputs": [
        {
          "output_type": "stream",
          "name": "stdout",
          "text": [
            "Input the number of elements to be stored in the array: 5\n",
            "Input 5 elements in the array:\n",
            "Element - 0: 1\n",
            "Element - 1: 2\n",
            "Element - 2: 3\n",
            "Element - 3: 4\n",
            "Element - 4: 5\n",
            "The Even elements are:\n",
            "2 4 \n",
            "The Odd elements are:\n",
            "1 3 5 "
          ]
        }
      ]
    },
    {
      "cell_type": "markdown",
      "source": [
        "---\n",
        "**Question 5:**\n",
        "---\n",
        "a. Write a function inside(x,y,x1,y1,x2,y2) that returns True or False\n",
        "depending on whether the point (x,y) lies in the rectangle with lower left\n",
        "corner (x1,y1) and upper right corner (x2,y2).\n",
        "\n",
        "b. Use function inside() from part a. to write an expression that tests whether the point (1,1) lies in both of the following rectangles: one with lower left corner (0.3, 0.5) and upper right corner (1.1, 0.7) and the other with lower left corner (0.5, 0.2) and upper right corner (1.1, 2)"
      ],
      "metadata": {
        "id": "joxDGq7xbC6e"
      }
    },
    {
      "cell_type": "code",
      "source": [
        "# a. Write a function inside(x,y,x1,y1,x2,y2) that returns True or False depending on whether the point (x,y) lies in the rectangle with lower left corner (x1,y1) and upper right corner (x2,y2)\n",
        "\n",
        "def inside(x, y, x1, y1, x2, y2):\n",
        "\n",
        "    if x1 <= x <= x2 and y1 <= y <= y2:\n",
        "        return True\n",
        "    else:\n",
        "        return False\n",
        "\n",
        "print(inside(1, 1, 0, 0, 2, 2))  # True\n",
        "print(inside(3, 3, 0, 0, 2, 2))  # False\n"
      ],
      "metadata": {
        "colab": {
          "base_uri": "https://localhost:8080/"
        },
        "id": "9c8Io034a8KY",
        "outputId": "ca0ebcc6-cd14-437e-f0ea-b4798b506f69"
      },
      "execution_count": null,
      "outputs": [
        {
          "output_type": "stream",
          "name": "stdout",
          "text": [
            "True\n",
            "False\n"
          ]
        }
      ]
    },
    {
      "cell_type": "code",
      "source": [
        "# b. Use function inside() from part a. to write an expression that tests whether the point (1,1) lies in both of the following rectangles: one with lower left corner (0.3, 0.5) and upper right corner (1.1, 0.7) and the other with lower left corner (0.5, 0.2) and upper right corner (1.1, 2)\n",
        "\n",
        "rectangle1 = inside(1, 1, 0.3, 0.5, 1.1, 0.7)\n",
        "rectangle2 = inside(1, 1, 0.5, 0.2, 1.1, 2)\n",
        "\n",
        "if rectangle1 and rectangle2:\n",
        "    print(\"The point (1, 1) lies in both rectangles.\")\n",
        "else:\n",
        "    print(\"The point (1, 1) does not lie in both rectangles.\")\n"
      ],
      "metadata": {
        "colab": {
          "base_uri": "https://localhost:8080/"
        },
        "id": "XgbDBxrjcE1H",
        "outputId": "9b4362f1-6b70-4bbf-9e64-cab67ff269a8"
      },
      "execution_count": null,
      "outputs": [
        {
          "output_type": "stream",
          "name": "stdout",
          "text": [
            "The point (1, 1) does not lie in both rectangles.\n"
          ]
        }
      ]
    },
    {
      "cell_type": "markdown",
      "source": [
        "---\n",
        "**Question 6**\n",
        "---\n",
        "You can turn a word into pig-Latin using the following two rules (simplified):\n",
        "\n",
        "\n",
        "*   If the word starts with a consonant, move that letter to the end and append\n",
        "'ay'. For example, 'happy' becomes 'appyhay' and 'pencil' becomes 'encilpay'.\n",
        "*   If the word starts with a vowel, simply append 'way' to the end of the word.\n",
        "For example, 'enter' becomes 'enterway' and 'other' becomes 'otherway' . For\n",
        "our purposes, there are 5 vowels: a, e, i, o, u (so we count y as a consonant)\n",
        "Write a function pig() that takes a word (i.e., a string) as input and returns its pig-Latin form. Your function should still work if the input word contains upper casecharacters. Your output should always be lower case however."
      ],
      "metadata": {
        "id": "AgIyBs0PdcWv"
      }
    },
    {
      "cell_type": "code",
      "source": [
        "def pig(word):\n",
        "    vowels = ['a', 'e', 'i', 'o', 'u']\n",
        "    word = word.lower()\n",
        "    if word[0] in vowels:\n",
        "        return word + 'way'\n",
        "    else:\n",
        "        return word[1:] + word[0] + 'ay'\n",
        "print(pig('happy'))\n",
        "print(pig('pencil'))\n",
        "print(pig('enter'))\n",
        "print(pig('other'))\n"
      ],
      "metadata": {
        "colab": {
          "base_uri": "https://localhost:8080/"
        },
        "id": "cm99ydmbdUV7",
        "outputId": "c6d86085-2d1e-47e3-f9d5-ea1646c95439"
      },
      "execution_count": null,
      "outputs": [
        {
          "output_type": "stream",
          "name": "stdout",
          "text": [
            "appyhay\n",
            "encilpay\n",
            "enterway\n",
            "otherway\n"
          ]
        }
      ]
    },
    {
      "cell_type": "markdown",
      "source": [
        "---\n",
        "**Question 7** is uploaded seprately\n",
        "---\n",
        "---\n"
      ],
      "metadata": {
        "id": "9sY305LxhwZC"
      }
    },
    {
      "cell_type": "code",
      "source": [
        "def bldcount(fname):\n",
        "    blood_counts = {'A': 0, 'B': 0, 'AB': 0, 'O': 0, 'OO': 0}\n",
        "\n",
        "    try:\n",
        "        with open('bloodtype1.csv', 'r') as file:\n",
        "            for line in file:\n",
        "                blood_type = line.strip()\n",
        "                if blood_type in blood_counts:\n",
        "                    blood_counts[blood_type] += 1\n",
        "    except FileNotFoundError:\n",
        "        print(\"File not found.\")\n",
        "        return\n",
        "\n",
        "    for blood_type, count in blood_counts.items():\n",
        "        if count == 1:\n",
        "            print(\"There is one patient of blood type\", blood_type + \".\")\n",
        "        else:\n",
        "            print(\"There are\", count, \"patients of blood type\", blood_type + \".\")\n",
        "\n",
        "bldcount('bloodtype1.csv')"
      ],
      "metadata": {
        "colab": {
          "base_uri": "https://localhost:8080/"
        },
        "id": "DzSPykAhnqoT",
        "outputId": "b95856de-13ba-40d4-c536-dcba20a89295"
      },
      "execution_count": null,
      "outputs": [
        {
          "output_type": "stream",
          "name": "stdout",
          "text": [
            "There are 15 patients of blood type A.\n",
            "There is one patient of blood type B.\n",
            "There are 13 patients of blood type AB.\n",
            "There are 15 patients of blood type O.\n",
            "There are 0 patients of blood type OO.\n"
          ]
        }
      ]
    },
    {
      "cell_type": "markdown",
      "source": [
        "---\n",
        "**Question 8:**\n",
        "---\n",
        "Write a function curconv() that takes as input:\n",
        "1. a currency represented using a string (e.g., 'JPY' for the Japanese Yen or\n",
        "'EUR' for the Euro)\n",
        "2. an amount\n",
        "and then converts and returns the amount in US dollars.\n"
      ],
      "metadata": {
        "id": "z_2dxe5NkL0g"
      }
    },
    {
      "cell_type": "code",
      "source": [
        "def curconv(currency, amount):\n",
        "    conversion_rates = {\n",
        "        'JPY': 0.01241401,\n",
        "        'INR': 0.0177643,\n",
        "        'CHF': 1.0237414,\n",
        "        'CNY': 0.1550176,\n",
        "        'DKK': 0.1651442,\n",
        "        'EUR': 1.2296544,\n",
        "        'GBP':1.5550989,\n",
        "        'HKD':0.1270207,\n",
        "        'MXN':0.0751848,\n",
        "        'MYR':0.3145411,\n",
        "        'NOK':0.1677063,\n",
        "        'NZD':0.8003591,\n",
        "        'PHP':0.0233234,\n",
        "        'SEK':0.148269,\n",
        "        'SGD':0.788871,\n",
        "        'THB':0.0313789 }\n",
        "\n",
        "    if currency in conversion_rates:\n",
        "        usd_amount = amount * conversion_rates[currency]\n",
        "        return \"For currency: \" + currency + \" and Amount: \" + str(amount) + \", the value of USD is: \" + str(usd_amount)\n",
        "\n",
        "    else:\n",
        "        print(\"Conversion rate for\", currency, \"is not available.\")\n",
        "        return None\n",
        "\n",
        "curconv('EUR',100)"
      ],
      "metadata": {
        "colab": {
          "base_uri": "https://localhost:8080/",
          "height": 35
        },
        "id": "HxS607RFhv0a",
        "outputId": "76a6805d-cdc2-47ce-f937-df9015a98159"
      },
      "execution_count": null,
      "outputs": [
        {
          "output_type": "execute_result",
          "data": {
            "text/plain": [
              "'For currency: EUR and Amount: 100, the value of USD is: 122.96544'"
            ],
            "application/vnd.google.colaboratory.intrinsic+json": {
              "type": "string"
            }
          },
          "metadata": {},
          "execution_count": 17
        }
      ]
    },
    {
      "cell_type": "markdown",
      "source": [
        "---\n",
        "**Question9**:\n",
        "---\n",
        "Each of the following will cause an exception (an error). Identify what type of\n",
        "exception each will cause.\n",
        "\n",
        "1. Trying to add incompatible variables, as in\n",
        "adding 6 + ‘a’:\n",
        "ERROR : unsupported operand type(s) for +: 'int' and 'str'\n",
        "\n",
        "2. Referring to the 12th item of a list that has only 10\n",
        "items\n",
        "3. Using a value that is out of range for a function’s\n",
        "input, such as calling math.sqrt(-1.0)\n",
        "4. Using an undeclared variable, such as print(x)\n",
        "when x has not been defined\n",
        "5. Trying to open a file that does not exist, such as\n",
        "mistyping the file name or looking in the wrong\n",
        "directory."
      ],
      "metadata": {
        "id": "9ZG1iHbImVfD"
      }
    },
    {
      "cell_type": "code",
      "source": [
        "#1 Trying to add incompatible variables, as in adding 6 + ‘a’\n",
        "6 + 'a'\n",
        "\n",
        "#ERROR:  unsupported operand type(s) for +: 'int' and 'str'"
      ],
      "metadata": {
        "id": "Oc6ij4gOp-pZ",
        "colab": {
          "base_uri": "https://localhost:8080/",
          "height": 184
        },
        "outputId": "eb90409b-5d3c-407d-bbe0-e59a7103c571"
      },
      "execution_count": null,
      "outputs": [
        {
          "output_type": "error",
          "ename": "TypeError",
          "evalue": "ignored",
          "traceback": [
            "\u001b[0;31m---------------------------------------------------------------------------\u001b[0m",
            "\u001b[0;31mTypeError\u001b[0m                                 Traceback (most recent call last)",
            "\u001b[0;32m<ipython-input-18-9711558de186>\u001b[0m in \u001b[0;36m<cell line: 2>\u001b[0;34m()\u001b[0m\n\u001b[1;32m      1\u001b[0m \u001b[0;31m#1 Trying to add incompatible variables, as in adding 6 + ‘a’\u001b[0m\u001b[0;34m\u001b[0m\u001b[0;34m\u001b[0m\u001b[0m\n\u001b[0;32m----> 2\u001b[0;31m \u001b[0;36m6\u001b[0m \u001b[0;34m+\u001b[0m \u001b[0;34m'a'\u001b[0m\u001b[0;34m\u001b[0m\u001b[0;34m\u001b[0m\u001b[0m\n\u001b[0m",
            "\u001b[0;31mTypeError\u001b[0m: unsupported operand type(s) for +: 'int' and 'str'"
          ]
        }
      ]
    },
    {
      "cell_type": "code",
      "source": [
        "#2 Referring to the 12th item of a list that has only 10 items\n",
        "a = [0,1,2,3,4,5,6,7,8,9]\n",
        "print(\"length of list:\",len(a))\n",
        "a[2]+a[11]\n",
        "\n",
        "#ERROR : list index out of range"
      ],
      "metadata": {
        "colab": {
          "base_uri": "https://localhost:8080/",
          "height": 219
        },
        "id": "w0xQn2MsqCPf",
        "outputId": "4ba56d1c-73dd-4fbf-991f-1a1df5d209fb"
      },
      "execution_count": null,
      "outputs": [
        {
          "output_type": "stream",
          "name": "stdout",
          "text": [
            "length of list: 10\n"
          ]
        },
        {
          "output_type": "error",
          "ename": "IndexError",
          "evalue": "ignored",
          "traceback": [
            "\u001b[0;31m---------------------------------------------------------------------------\u001b[0m",
            "\u001b[0;31mIndexError\u001b[0m                                Traceback (most recent call last)",
            "\u001b[0;32m<ipython-input-19-ff0ef5471336>\u001b[0m in \u001b[0;36m<cell line: 4>\u001b[0;34m()\u001b[0m\n\u001b[1;32m      2\u001b[0m \u001b[0ma\u001b[0m \u001b[0;34m=\u001b[0m \u001b[0;34m[\u001b[0m\u001b[0;36m0\u001b[0m\u001b[0;34m,\u001b[0m\u001b[0;36m1\u001b[0m\u001b[0;34m,\u001b[0m\u001b[0;36m2\u001b[0m\u001b[0;34m,\u001b[0m\u001b[0;36m3\u001b[0m\u001b[0;34m,\u001b[0m\u001b[0;36m4\u001b[0m\u001b[0;34m,\u001b[0m\u001b[0;36m5\u001b[0m\u001b[0;34m,\u001b[0m\u001b[0;36m6\u001b[0m\u001b[0;34m,\u001b[0m\u001b[0;36m7\u001b[0m\u001b[0;34m,\u001b[0m\u001b[0;36m8\u001b[0m\u001b[0;34m,\u001b[0m\u001b[0;36m9\u001b[0m\u001b[0;34m]\u001b[0m\u001b[0;34m\u001b[0m\u001b[0;34m\u001b[0m\u001b[0m\n\u001b[1;32m      3\u001b[0m \u001b[0mprint\u001b[0m\u001b[0;34m(\u001b[0m\u001b[0;34m\"length of list:\"\u001b[0m\u001b[0;34m,\u001b[0m\u001b[0mlen\u001b[0m\u001b[0;34m(\u001b[0m\u001b[0ma\u001b[0m\u001b[0;34m)\u001b[0m\u001b[0;34m)\u001b[0m\u001b[0;34m\u001b[0m\u001b[0;34m\u001b[0m\u001b[0m\n\u001b[0;32m----> 4\u001b[0;31m \u001b[0ma\u001b[0m\u001b[0;34m[\u001b[0m\u001b[0;36m2\u001b[0m\u001b[0;34m]\u001b[0m\u001b[0;34m+\u001b[0m\u001b[0ma\u001b[0m\u001b[0;34m[\u001b[0m\u001b[0;36m11\u001b[0m\u001b[0;34m]\u001b[0m\u001b[0;34m\u001b[0m\u001b[0;34m\u001b[0m\u001b[0m\n\u001b[0m",
            "\u001b[0;31mIndexError\u001b[0m: list index out of range"
          ]
        }
      ]
    },
    {
      "cell_type": "code",
      "source": [
        "#3 Using a value that is out of range for a function’s input, such as calling math.sqrt(-1.0)\n",
        "import math\n",
        "\n",
        "result = math.sqrt(-1.0)\n",
        "\n",
        "#ERROR: math domain error"
      ],
      "metadata": {
        "id": "kiC05g_xqa1t",
        "colab": {
          "base_uri": "https://localhost:8080/",
          "height": 201
        },
        "outputId": "727ae3f3-7ccb-4456-ae55-f25e3b352c95"
      },
      "execution_count": null,
      "outputs": [
        {
          "output_type": "error",
          "ename": "ValueError",
          "evalue": "ignored",
          "traceback": [
            "\u001b[0;31m---------------------------------------------------------------------------\u001b[0m",
            "\u001b[0;31mValueError\u001b[0m                                Traceback (most recent call last)",
            "\u001b[0;32m<ipython-input-20-d9b8fb903840>\u001b[0m in \u001b[0;36m<cell line: 4>\u001b[0;34m()\u001b[0m\n\u001b[1;32m      2\u001b[0m \u001b[0;32mimport\u001b[0m \u001b[0mmath\u001b[0m\u001b[0;34m\u001b[0m\u001b[0;34m\u001b[0m\u001b[0m\n\u001b[1;32m      3\u001b[0m \u001b[0;34m\u001b[0m\u001b[0m\n\u001b[0;32m----> 4\u001b[0;31m \u001b[0mresult\u001b[0m \u001b[0;34m=\u001b[0m \u001b[0mmath\u001b[0m\u001b[0;34m.\u001b[0m\u001b[0msqrt\u001b[0m\u001b[0;34m(\u001b[0m\u001b[0;34m-\u001b[0m\u001b[0;36m1.0\u001b[0m\u001b[0;34m)\u001b[0m\u001b[0;34m\u001b[0m\u001b[0;34m\u001b[0m\u001b[0m\n\u001b[0m",
            "\u001b[0;31mValueError\u001b[0m: math domain error"
          ]
        }
      ]
    },
    {
      "cell_type": "code",
      "source": [
        "#4 Using an undeclared variable, such as print(x) when x has not been defined\n",
        "a = 5\n",
        "b = 10\n",
        "c = a+b\n",
        "print(x)\n",
        "\n",
        "#ERROR: name 'x' is not defined"
      ],
      "metadata": {
        "colab": {
          "base_uri": "https://localhost:8080/",
          "height": 201
        },
        "id": "pvkbHnUHqlZK",
        "outputId": "380c74f0-adb1-4706-bcbc-d975f969bd0c"
      },
      "execution_count": null,
      "outputs": [
        {
          "output_type": "error",
          "ename": "NameError",
          "evalue": "ignored",
          "traceback": [
            "\u001b[0;31m---------------------------------------------------------------------------\u001b[0m",
            "\u001b[0;31mNameError\u001b[0m                                 Traceback (most recent call last)",
            "\u001b[0;32m<ipython-input-21-60c3256b9948>\u001b[0m in \u001b[0;36m<cell line: 5>\u001b[0;34m()\u001b[0m\n\u001b[1;32m      3\u001b[0m \u001b[0mb\u001b[0m \u001b[0;34m=\u001b[0m \u001b[0;36m10\u001b[0m\u001b[0;34m\u001b[0m\u001b[0;34m\u001b[0m\u001b[0m\n\u001b[1;32m      4\u001b[0m \u001b[0mc\u001b[0m \u001b[0;34m=\u001b[0m \u001b[0ma\u001b[0m\u001b[0;34m+\u001b[0m\u001b[0mb\u001b[0m\u001b[0;34m\u001b[0m\u001b[0;34m\u001b[0m\u001b[0m\n\u001b[0;32m----> 5\u001b[0;31m \u001b[0mprint\u001b[0m\u001b[0;34m(\u001b[0m\u001b[0mx\u001b[0m\u001b[0;34m)\u001b[0m\u001b[0;34m\u001b[0m\u001b[0;34m\u001b[0m\u001b[0m\n\u001b[0m",
            "\u001b[0;31mNameError\u001b[0m: name 'x' is not defined"
          ]
        }
      ]
    },
    {
      "cell_type": "markdown",
      "source": [
        "5.  Trying to open a file that does not exist, such as mistyping the file name or looking in the wrong directory.\n",
        "\n",
        "Trying to open a file which aleady existed ![question7.png](data:image/png;base64,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)\n",
        "\n",
        "  and opening file which do not exist\n",
        "\n",
        "![image.png](data:image/png;base64,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)"
      ],
      "metadata": {
        "id": "c1fMDbo9rY9f"
      }
    },
    {
      "cell_type": "markdown",
      "source": [
        "---\n",
        "**Question 10**:\n",
        "---\n",
        "Encryption is the process of hiding the meaning of a text by substituting letters in the\n",
        "message with other letters, according to some system. If the process is successful, no\n",
        "one but the intended recipient can understand the encrypted message. Cryptanalysis\n",
        "refers to attempts to undo the encryption, even if some details of the encryption are\n",
        "unknown (for example, if an encrypted message has been intercepted). The first step\n",
        "of cryptanalysis is often to build up a table of letter frequencies in the encrypted text.\n",
        "Assume that the string letters is already defined as\n",
        "'abcdefghijklmnopqrstuvwxyz'. Write a function called frequencies()\n",
        "that takes a string as its only parameter, and returns a list of integers, showing the\n",
        "number of times each character appears in the text. Your function may ignore any\n",
        "characters that are not in letters"
      ],
      "metadata": {
        "id": "d0c-tE3AGtgr"
      }
    },
    {
      "cell_type": "code",
      "source": [
        "def frequencies(text):\n",
        "    letters = 'abcdefghijklmnopqrstuvwxyz'\n",
        "    result = [0] * len(letters)\n",
        "\n",
        "\n",
        "    for char in text:\n",
        "\n",
        "        char = char.lower()\n",
        "\n",
        "        if char in letters:\n",
        "            index = letters.index(char)\n",
        "            result[index] += 1\n",
        "    return result\n",
        "\n",
        "text = \"The quick red fox got bored and went home.\"\n",
        "frequency_list = frequencies(text)\n",
        "print(frequency_list)\n"
      ],
      "metadata": {
        "colab": {
          "base_uri": "https://localhost:8080/"
        },
        "id": "bB6IvtIGhvvX",
        "outputId": "a437c810-878b-4a22-a2a0-b7af8f5177ff"
      },
      "execution_count": null,
      "outputs": [
        {
          "output_type": "stream",
          "name": "stdout",
          "text": [
            "[1, 1, 1, 3, 5, 1, 1, 2, 1, 0, 1, 0, 1, 2, 4, 0, 1, 2, 0, 3, 1, 0, 1, 1, 0, 0]\n"
          ]
        }
      ]
    }
  ]
}